{
 "cells": [
  {
   "cell_type": "markdown",
   "metadata": {},
   "source": [
    "# housing prediction\n",
    "- Predict final sales prices of residential homes in Ames, Iowa\n",
    "- 79 explanatory variables describing every aspect of residential homes \n",
    "- data from [Kaggle](https://www.kaggle.com/c/house-prices-advanced-regression-techniques)"
   ]
  },
  {
   "cell_type": "markdown",
   "metadata": {},
   "source": [
    "## to do list:\n",
    "- documentation.explain the reasons.\n",
    "- lesson learned: To get dummies, one need to apply train and test together."
   ]
  },
  {
   "cell_type": "markdown",
   "metadata": {},
   "source": [
    "## import data and library."
   ]
  },
  {
   "cell_type": "code",
   "execution_count": 24,
   "metadata": {},
   "outputs": [],
   "source": [
    "# import libraries\n",
    "import pandas as pd\n",
    "import numpy as np\n",
    "import seaborn as sns\n",
    "import matplotlib.pyplot as plt\n",
    "%matplotlib inline"
   ]
  },
  {
   "cell_type": "code",
   "execution_count": 25,
   "metadata": {},
   "outputs": [],
   "source": [
    "# import data\n",
    "train = pd.read_csv('train.csv')\n",
    "test = pd.read_csv('test.csv')\n",
    "all_df = pd.concat((train.iloc[:,:-1],test)) # combine test and train without sale price.\n",
    "y_train = train[\"SalePrice\"] \n"
   ]
  },
  {
   "cell_type": "code",
   "execution_count": 26,
   "metadata": {},
   "outputs": [
    {
     "name": "stdout",
     "output_type": "stream",
     "text": [
      "<class 'pandas.core.frame.DataFrame'>\n",
      "RangeIndex: 1460 entries, 0 to 1459\n",
      "Data columns (total 81 columns):\n",
      "Id               1460 non-null int64\n",
      "MSSubClass       1460 non-null int64\n",
      "MSZoning         1460 non-null object\n",
      "LotFrontage      1201 non-null float64\n",
      "LotArea          1460 non-null int64\n",
      "Street           1460 non-null object\n",
      "Alley            91 non-null object\n",
      "LotShape         1460 non-null object\n",
      "LandContour      1460 non-null object\n",
      "Utilities        1460 non-null object\n",
      "LotConfig        1460 non-null object\n",
      "LandSlope        1460 non-null object\n",
      "Neighborhood     1460 non-null object\n",
      "Condition1       1460 non-null object\n",
      "Condition2       1460 non-null object\n",
      "BldgType         1460 non-null object\n",
      "HouseStyle       1460 non-null object\n",
      "OverallQual      1460 non-null int64\n",
      "OverallCond      1460 non-null int64\n",
      "YearBuilt        1460 non-null int64\n",
      "YearRemodAdd     1460 non-null int64\n",
      "RoofStyle        1460 non-null object\n",
      "RoofMatl         1460 non-null object\n",
      "Exterior1st      1460 non-null object\n",
      "Exterior2nd      1460 non-null object\n",
      "MasVnrType       1452 non-null object\n",
      "MasVnrArea       1452 non-null float64\n",
      "ExterQual        1460 non-null object\n",
      "ExterCond        1460 non-null object\n",
      "Foundation       1460 non-null object\n",
      "BsmtQual         1423 non-null object\n",
      "BsmtCond         1423 non-null object\n",
      "BsmtExposure     1422 non-null object\n",
      "BsmtFinType1     1423 non-null object\n",
      "BsmtFinSF1       1460 non-null int64\n",
      "BsmtFinType2     1422 non-null object\n",
      "BsmtFinSF2       1460 non-null int64\n",
      "BsmtUnfSF        1460 non-null int64\n",
      "TotalBsmtSF      1460 non-null int64\n",
      "Heating          1460 non-null object\n",
      "HeatingQC        1460 non-null object\n",
      "CentralAir       1460 non-null object\n",
      "Electrical       1459 non-null object\n",
      "1stFlrSF         1460 non-null int64\n",
      "2ndFlrSF         1460 non-null int64\n",
      "LowQualFinSF     1460 non-null int64\n",
      "GrLivArea        1460 non-null int64\n",
      "BsmtFullBath     1460 non-null int64\n",
      "BsmtHalfBath     1460 non-null int64\n",
      "FullBath         1460 non-null int64\n",
      "HalfBath         1460 non-null int64\n",
      "BedroomAbvGr     1460 non-null int64\n",
      "KitchenAbvGr     1460 non-null int64\n",
      "KitchenQual      1460 non-null object\n",
      "TotRmsAbvGrd     1460 non-null int64\n",
      "Functional       1460 non-null object\n",
      "Fireplaces       1460 non-null int64\n",
      "FireplaceQu      770 non-null object\n",
      "GarageType       1379 non-null object\n",
      "GarageYrBlt      1379 non-null float64\n",
      "GarageFinish     1379 non-null object\n",
      "GarageCars       1460 non-null int64\n",
      "GarageArea       1460 non-null int64\n",
      "GarageQual       1379 non-null object\n",
      "GarageCond       1379 non-null object\n",
      "PavedDrive       1460 non-null object\n",
      "WoodDeckSF       1460 non-null int64\n",
      "OpenPorchSF      1460 non-null int64\n",
      "EnclosedPorch    1460 non-null int64\n",
      "3SsnPorch        1460 non-null int64\n",
      "ScreenPorch      1460 non-null int64\n",
      "PoolArea         1460 non-null int64\n",
      "PoolQC           7 non-null object\n",
      "Fence            281 non-null object\n",
      "MiscFeature      54 non-null object\n",
      "MiscVal          1460 non-null int64\n",
      "MoSold           1460 non-null int64\n",
      "YrSold           1460 non-null int64\n",
      "SaleType         1460 non-null object\n",
      "SaleCondition    1460 non-null object\n",
      "SalePrice        1460 non-null int64\n",
      "dtypes: float64(3), int64(35), object(43)\n",
      "memory usage: 924.0+ KB\n"
     ]
    }
   ],
   "source": [
    "train.info()"
   ]
  },
  {
   "cell_type": "markdown",
   "metadata": {},
   "source": [
    "1460 records, some of them with NaN."
   ]
  },
  {
   "cell_type": "markdown",
   "metadata": {},
   "source": [
    "## data preprocessing"
   ]
  },
  {
   "cell_type": "markdown",
   "metadata": {},
   "source": [
    "### check for skewness"
   ]
  },
  {
   "cell_type": "code",
   "execution_count": 27,
   "metadata": {},
   "outputs": [
    {
     "data": {
      "text/plain": [
       "(37,)"
      ]
     },
     "execution_count": 27,
     "metadata": {},
     "output_type": "execute_result"
    }
   ],
   "source": [
    "# getting columns with numerical value\n",
    "numeric_feats = all_df.dtypes[all_df.dtypes != \"object\"].index\n",
    "numeric_feats.shape"
   ]
  },
  {
   "cell_type": "code",
   "execution_count": 28,
   "metadata": {},
   "outputs": [
    {
     "data": {
      "text/plain": [
       "(22,)"
      ]
     },
     "execution_count": 28,
     "metadata": {},
     "output_type": "execute_result"
    }
   ],
   "source": [
    "# check how many of them have skewness above 0.75\n",
    "from scipy.stats import skew\n",
    "skewed_feats = all_df[numeric_feats].apply(lambda x: skew(x.dropna())) #compute skewness\n",
    "skewed_feats = skewed_feats[skewed_feats > 0.75]\n",
    "skewed_feats = skewed_feats.index\n",
    "skewed_feats.shape"
   ]
  },
  {
   "cell_type": "code",
   "execution_count": 29,
   "metadata": {},
   "outputs": [],
   "source": [
    "# fig = plt.figure(figsize=(10,10))\n",
    "# for counter, value in enumerate(skewed_feats):\n",
    "    \n",
    "#     plt.subplot(5, 5, counter+1)\n",
    "#     sns.distplot(train[value].dropna())"
   ]
  },
  {
   "cell_type": "code",
   "execution_count": 30,
   "metadata": {},
   "outputs": [],
   "source": [
    "# do Log transform to minimize skewness\n",
    "all_df[skewed_feats] = np.log1p(all_df[skewed_feats])"
   ]
  },
  {
   "cell_type": "code",
   "execution_count": 31,
   "metadata": {},
   "outputs": [],
   "source": [
    "y_train = np.log1p(y_train)"
   ]
  },
  {
   "cell_type": "code",
   "execution_count": 32,
   "metadata": {},
   "outputs": [],
   "source": [
    "# fig = plt.figure(figsize=(10,10))\n",
    "# for counter, value in enumerate(skewed_feats):\n",
    "    \n",
    "#     plt.subplot(5, 5, counter+1)\n",
    "#     sns.distplot(train[value].dropna())"
   ]
  },
  {
   "cell_type": "markdown",
   "metadata": {},
   "source": [
    "### change categorial to dummy"
   ]
  },
  {
   "cell_type": "code",
   "execution_count": 33,
   "metadata": {},
   "outputs": [],
   "source": [
    "all_df = pd.get_dummies(all_df.iloc[:,:-1])\n"
   ]
  },
  {
   "cell_type": "code",
   "execution_count": 34,
   "metadata": {},
   "outputs": [
    {
     "data": {
      "text/plain": [
       "(2919, 283)"
      ]
     },
     "execution_count": 34,
     "metadata": {},
     "output_type": "execute_result"
    }
   ],
   "source": [
    "all_df.shape"
   ]
  },
  {
   "cell_type": "markdown",
   "metadata": {},
   "source": [
    "### fill  NaN with mean"
   ]
  },
  {
   "cell_type": "code",
   "execution_count": 35,
   "metadata": {},
   "outputs": [],
   "source": [
    "all_df = all_df.fillna(all_df.mean())\n"
   ]
  },
  {
   "cell_type": "markdown",
   "metadata": {},
   "source": [
    "### preparing data for modeling"
   ]
  },
  {
   "cell_type": "code",
   "execution_count": 36,
   "metadata": {},
   "outputs": [],
   "source": [
    "#create matrices for sklearn:\n",
    "X_train = all_df[:train.shape[0]]\n",
    "X_test = all_df[train.shape[0]:]"
   ]
  },
  {
   "cell_type": "markdown",
   "metadata": {},
   "source": [
    "## model\n",
    "- use L1 and L2 regularization"
   ]
  },
  {
   "cell_type": "code",
   "execution_count": 37,
   "metadata": {},
   "outputs": [
    {
     "data": {
      "text/plain": [
       "(0.8954148632910117, 5)"
      ]
     },
     "execution_count": 37,
     "metadata": {},
     "output_type": "execute_result"
    },
    {
     "data": {
      "image/png": "[encoded data removed]",
      "text/plain": [
       "<matplotlib.figure.Figure at 0x1a13497780>"
      ]
     },
     "metadata": {},
     "output_type": "display_data"
    }
   ],
   "source": [
    "from sklearn.linear_model import Ridge, RidgeCV, ElasticNet, LassoCV, LassoLarsCV,Lasso\n",
    "from sklearn.model_selection import cross_val_score\n",
    "\n",
    "alphas = [0.05, 0.1, 0.3, 1, 3, 5, 10, 15, 30, 50, 75]\n",
    "cv_ridge =[]\n",
    "for i in alphas:\n",
    "    cv = cross_val_score(Ridge(alpha=i), X_train, y_train).mean()\n",
    "    cv_ridge.append(cv)\n",
    "plt.plot(cv_ridge,'-o')\n",
    "max(cv_ridge),alphas[np.argmax(cv_ridge)]"
   ]
  },
  {
   "cell_type": "code",
   "execution_count": 38,
   "metadata": {},
   "outputs": [
    {
     "data": {
      "text/plain": [
       "[0.8960609212911693, 0.9014364652102583, 0.8980428141014535, 0.854851739225034]"
      ]
     },
     "execution_count": 38,
     "metadata": {},
     "output_type": "execute_result"
    },
    {
     "data": {
      "image/png": "[encoded data removed]",
      "text/plain": [
       "<matplotlib.figure.Figure at 0x1a134977f0>"
      ]
     },
     "metadata": {},
     "output_type": "display_data"
    }
   ],
   "source": [
    "alphas = [1e-4,5e-4, 1e-3,1e-2]\n",
    "cv_lasso =[]\n",
    "for i in alphas:\n",
    "    cv = cross_val_score(Lasso(alpha=i), X_train, y_train).mean()\n",
    "    cv_lasso.append(cv)\n",
    "plt.plot(cv_lasso,'-o')\n",
    "cv_lasso"
   ]
  },
  {
   "cell_type": "code",
   "execution_count": 39,
   "metadata": {},
   "outputs": [
    {
     "data": {
      "text/plain": [
       "(0.9008163735270704, 0.0005)"
      ]
     },
     "execution_count": 39,
     "metadata": {},
     "output_type": "execute_result"
    }
   ],
   "source": [
    "model_lasso = LassoCV(alphas = [1, 0.1, 0.001, 0.0005]).fit(X_train, y_train)\n",
    "cross_val_score(model_lasso,X_train, y_train).mean(),model_lasso.alpha_"
   ]
  },
  {
   "cell_type": "code",
   "execution_count": 40,
   "metadata": {},
   "outputs": [
    {
     "data": {
      "text/plain": [
       "RoofMatl_ClyTile        0.687143\n",
       "GrLivArea               0.417457\n",
       "MSZoning_C (all)        0.313030\n",
       "Condition2_PosN         0.197384\n",
       "Neighborhood_StoneBr    0.112597\n",
       "Neighborhood_Crawfor    0.102396\n",
       "Neighborhood_NoRidge    0.080277\n",
       "LotArea                 0.073133\n",
       "Neighborhood_NridgHt    0.072939\n",
       "Exterior1st_BrkFace     0.071944\n",
       "Functional_Typ          0.071633\n",
       "KitchenQual_Ex          0.060687\n",
       "OverallQual             0.052847\n",
       "Neighborhood_Edwards    0.052434\n",
       "BsmtQual_Ex             0.049811\n",
       "Condition1_Norm         0.047450\n",
       "Neighborhood_Somerst    0.044968\n",
       "OverallCond             0.044241\n",
       "RoofMatl_WdShngl        0.043004\n",
       "Neighborhood_BrkSide    0.042189\n",
       "GarageCars              0.039048\n",
       "BsmtExposure_Gd         0.038069\n",
       "MSZoning_RM             0.037380\n",
       "Functional_Maj2         0.036967\n",
       "CentralAir_N            0.033487\n",
       "LandContour_Bnk         0.032081\n",
       "SaleType_COD            0.030334\n",
       "1stFlrSF                0.028623\n",
       "BsmtFullBath            0.025866\n",
       "Heating_GasW            0.025686\n",
       "                          ...   \n",
       "HouseStyle_1.5Unf       0.000000\n",
       "HouseStyle_1.5Fin       0.000000\n",
       "BldgType_Twnhs          0.000000\n",
       "Exterior1st_CBlock      0.000000\n",
       "Exterior1st_CemntBd     0.000000\n",
       "Exterior1st_ImStucc     0.000000\n",
       "Exterior2nd_HdBoard     0.000000\n",
       "MasVnrType_Stone        0.000000\n",
       "MasVnrType_None         0.000000\n",
       "MasVnrType_BrkFace      0.000000\n",
       "Exterior2nd_Wd Shng     0.000000\n",
       "Exterior2nd_Stucco      0.000000\n",
       "Exterior2nd_Stone       0.000000\n",
       "Exterior2nd_Plywood     0.000000\n",
       "Exterior2nd_Other       0.000000\n",
       "Exterior2nd_MetalSd     0.000000\n",
       "Exterior2nd_ImStucc     0.000000\n",
       "Exterior2nd_CmentBd     0.000000\n",
       "SaleType_Oth            0.000000\n",
       "Exterior2nd_CBlock      0.000000\n",
       "Exterior2nd_BrkFace     0.000000\n",
       "Exterior2nd_Brk Cmn     0.000000\n",
       "Exterior2nd_AsphShn     0.000000\n",
       "Exterior2nd_AsbShng     0.000000\n",
       "Exterior1st_WdShing     0.000000\n",
       "Exterior1st_VinylSd     0.000000\n",
       "Exterior1st_Stucco      0.000000\n",
       "Exterior1st_Stone       0.000000\n",
       "Exterior1st_Plywood     0.000000\n",
       "HouseStyle_SFoyer       0.000000\n",
       "Length: 283, dtype: float64"
      ]
     },
     "execution_count": 40,
     "metadata": {},
     "output_type": "execute_result"
    }
   ],
   "source": [
    "coef = pd.Series(model_lasso.coef_, index = X_train.columns)\n",
    "abs(coef).sort_values(ascending=False)"
   ]
  },
  {
   "cell_type": "code",
   "execution_count": 88,
   "metadata": {},
   "outputs": [],
   "source": [
    "### output this to Kaggle\n",
    "las = Lasso(alpha= 0.0005).fit(X_train,y_train)\n",
    "Y_predi = las.predict(X_test)\n",
    "Y_predi = np.expm1(Y_predi) # reverse to normal value\n",
    "submission = pd.DataFrame({'Id':test['Id'],\"SalePrice\":Y_predi})\n",
    "submission.to_csv(\"submission_lasso.csv\", index = False)"
   ]
  },
  {
   "cell_type": "code",
   "execution_count": 90,
   "metadata": {},
   "outputs": [],
   "source": [
    "rid = Ridge(alpha= 5).fit(X_train,y_train)\n",
    "Y_predi = rid.predict(X_test)\n",
    "Y_predi = np.expm1(Y_predi) # reverse to normal value\n",
    "submission = pd.DataFrame({'Id':test['Id'],\"SalePrice\":Y_predi})\n",
    "submission.to_csv(\"submission_rid.csv\", index = False)"
   ]
  },
  {
   "cell_type": "markdown",
   "metadata": {},
   "source": [
    "## try other models"
   ]
  },
  {
   "cell_type": "code",
   "execution_count": 74,
   "metadata": {},
   "outputs": [],
   "source": [
    "import lightgbm as lgb\n",
    "lgb_r = lgb.LGBMRegressor()\n",
    "lgb_r.fit(X_train,y_train)\n",
    "Y_predi = lgb_r.predict(X_test)\n",
    "Y_predi = np.expm1(Y_predi) # reverse to normal value\n",
    "submission = pd.DataFrame({'Id':test['Id'],\"SalePrice\":Y_predi})\n",
    "submission.to_csv(\"submission_lgb.csv\", index = False)\n"
   ]
  },
  {
   "cell_type": "code",
   "execution_count": 75,
   "metadata": {},
   "outputs": [],
   "source": [
    "from sklearn.ensemble import RandomForestRegressor \n",
    "forest_reg = RandomForestRegressor()\n",
    "forest_reg.fit(X_train,y_train)\n",
    "Y_predi = forest_reg.predict(X_test)\n",
    "Y_predi = np.expm1(Y_predi) # reverse to normal value\n",
    "submission = pd.DataFrame({'Id':test['Id'],\"SalePrice\":Y_predi})\n",
    "submission.to_csv(\"submission_forest.csv\", index = False)"
   ]
  }
 ],
 "metadata": {
  "kernelspec": {
   "display_name": "Python 3",
   "language": "python3",
   "name": "python3"
  },
  "language_info": {
   "codemirror_mode": {
    "name": "ipython",
    "version": 3
   },
   "file_extension": ".py",
   "mimetype": "text/x-python",
   "name": "python",
   "nbconvert_exporter": "python",
   "pygments_lexer": "ipython3",
   "version": "3.6.4"
  }
 },
 "nbformat": 4,
 "nbformat_minor": 2
}
