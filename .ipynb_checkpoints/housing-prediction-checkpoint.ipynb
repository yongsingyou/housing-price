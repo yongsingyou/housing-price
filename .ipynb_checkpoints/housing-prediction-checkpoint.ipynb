{
 "cells": [
  {
   "cell_type": "markdown",
   "metadata": {
    "toc": true
   },
   "source": [
    "<h1>Table of Contents<span class=\"tocSkip\"></span></h1>\n",
    "<div class=\"toc\"><ul class=\"toc-item\"><li><span><a href=\"#to-do-list:\" data-toc-modified-id=\"to-do-list:-1\"><span class=\"toc-item-num\">1&nbsp;&nbsp;</span>to do list:</a></span></li><li><span><a href=\"#import-data-and-library.\" data-toc-modified-id=\"import-data-and-library.-2\"><span class=\"toc-item-num\">2&nbsp;&nbsp;</span>import data and library.</a></span></li><li><span><a href=\"#explore\" data-toc-modified-id=\"explore-3\"><span class=\"toc-item-num\">3&nbsp;&nbsp;</span>explore</a></span></li><li><span><a href=\"#data-preprocessing\" data-toc-modified-id=\"data-preprocessing-4\"><span class=\"toc-item-num\">4&nbsp;&nbsp;</span>data preprocessing</a></span><ul class=\"toc-item\"><li><span><a href=\"#check-for-skewness\" data-toc-modified-id=\"check-for-skewness-4.1\"><span class=\"toc-item-num\">4.1&nbsp;&nbsp;</span>check for skewness</a></span></li><li><span><a href=\"#change-categorial-to-dummy\" data-toc-modified-id=\"change-categorial-to-dummy-4.2\"><span class=\"toc-item-num\">4.2&nbsp;&nbsp;</span>change categorial to dummy</a></span></li><li><span><a href=\"#fill--NaN-with-mean\" data-toc-modified-id=\"fill--NaN-with-mean-4.3\"><span class=\"toc-item-num\">4.3&nbsp;&nbsp;</span>fill  NaN with mean</a></span></li><li><span><a href=\"#preparing-data-for-modeling\" data-toc-modified-id=\"preparing-data-for-modeling-4.4\"><span class=\"toc-item-num\">4.4&nbsp;&nbsp;</span>preparing data for modeling</a></span></li></ul></li><li><span><a href=\"#model\" data-toc-modified-id=\"model-5\"><span class=\"toc-item-num\">5&nbsp;&nbsp;</span>model</a></span><ul class=\"toc-item\"><li><span><a href=\"#Ridge\" data-toc-modified-id=\"Ridge-5.1\"><span class=\"toc-item-num\">5.1&nbsp;&nbsp;</span>Ridge</a></span></li><li><span><a href=\"#Lasso\" data-toc-modified-id=\"Lasso-5.2\"><span class=\"toc-item-num\">5.2&nbsp;&nbsp;</span>Lasso</a></span></li><li><span><a href=\"#elastic\" data-toc-modified-id=\"elastic-5.3\"><span class=\"toc-item-num\">5.3&nbsp;&nbsp;</span>elastic</a></span></li></ul></li><li><span><a href=\"#try-other-models\" data-toc-modified-id=\"try-other-models-6\"><span class=\"toc-item-num\">6&nbsp;&nbsp;</span>try other models</a></span><ul class=\"toc-item\"><li><span><a href=\"#light-gbm\" data-toc-modified-id=\"light-gbm-6.1\"><span class=\"toc-item-num\">6.1&nbsp;&nbsp;</span>light gbm</a></span></li></ul></li></ul></div>"
   ]
  },
  {
   "cell_type": "markdown",
   "metadata": {},
   "source": [
    "# housing prediction\n",
    "- Predict final sales prices of residential homes in Ames, Iowa\n",
    "- 79 explanatory variables describing every aspect of residential homes \n",
    "- data from [Kaggle](https://www.kaggle.com/c/house-prices-advanced-regression-techniques)"
   ]
  },
  {
   "cell_type": "markdown",
   "metadata": {},
   "source": [
    "## to do list:\n",
    "- documentation.explain the reasons.\n",
    "- lesson learned: To get dummies, one need to apply train and test together."
   ]
  },
  {
   "cell_type": "markdown",
   "metadata": {},
   "source": [
    "## import data and library."
   ]
  },
  {
   "cell_type": "code",
   "execution_count": 43,
   "metadata": {},
   "outputs": [],
   "source": [
    "# import libraries\n",
    "import pandas as pd\n",
    "import numpy as np\n",
    "import seaborn as sns\n",
    "import matplotlib.pyplot as plt\n",
    "%matplotlib inline"
   ]
  },
  {
   "cell_type": "code",
   "execution_count": 60,
   "metadata": {},
   "outputs": [],
   "source": [
    "# import data\n",
    "train = pd.read_csv('train.csv')\n",
    "test = pd.read_csv('test.csv')\n",
    "all_df = pd.concat((train.iloc[:,:-1],test)) # combine test and train without sale price.\n",
    "y_train = train[\"SalePrice\"] \n"
   ]
  },
  {
   "cell_type": "code",
   "execution_count": 61,
   "metadata": {},
   "outputs": [
    {
     "name": "stdout",
     "output_type": "stream",
     "text": [
      "<class 'pandas.core.frame.DataFrame'>\n",
      "RangeIndex: 1460 entries, 0 to 1459\n",
      "Data columns (total 81 columns):\n",
      "Id               1460 non-null int64\n",
      "MSSubClass       1460 non-null int64\n",
      "MSZoning         1460 non-null object\n",
      "LotFrontage      1201 non-null float64\n",
      "LotArea          1460 non-null int64\n",
      "Street           1460 non-null object\n",
      "Alley            91 non-null object\n",
      "LotShape         1460 non-null object\n",
      "LandContour      1460 non-null object\n",
      "Utilities        1460 non-null object\n",
      "LotConfig        1460 non-null object\n",
      "LandSlope        1460 non-null object\n",
      "Neighborhood     1460 non-null object\n",
      "Condition1       1460 non-null object\n",
      "Condition2       1460 non-null object\n",
      "BldgType         1460 non-null object\n",
      "HouseStyle       1460 non-null object\n",
      "OverallQual      1460 non-null int64\n",
      "OverallCond      1460 non-null int64\n",
      "YearBuilt        1460 non-null int64\n",
      "YearRemodAdd     1460 non-null int64\n",
      "RoofStyle        1460 non-null object\n",
      "RoofMatl         1460 non-null object\n",
      "Exterior1st      1460 non-null object\n",
      "Exterior2nd      1460 non-null object\n",
      "MasVnrType       1452 non-null object\n",
      "MasVnrArea       1452 non-null float64\n",
      "ExterQual        1460 non-null object\n",
      "ExterCond        1460 non-null object\n",
      "Foundation       1460 non-null object\n",
      "BsmtQual         1423 non-null object\n",
      "BsmtCond         1423 non-null object\n",
      "BsmtExposure     1422 non-null object\n",
      "BsmtFinType1     1423 non-null object\n",
      "BsmtFinSF1       1460 non-null int64\n",
      "BsmtFinType2     1422 non-null object\n",
      "BsmtFinSF2       1460 non-null int64\n",
      "BsmtUnfSF        1460 non-null int64\n",
      "TotalBsmtSF      1460 non-null int64\n",
      "Heating          1460 non-null object\n",
      "HeatingQC        1460 non-null object\n",
      "CentralAir       1460 non-null object\n",
      "Electrical       1459 non-null object\n",
      "1stFlrSF         1460 non-null int64\n",
      "2ndFlrSF         1460 non-null int64\n",
      "LowQualFinSF     1460 non-null int64\n",
      "GrLivArea        1460 non-null int64\n",
      "BsmtFullBath     1460 non-null int64\n",
      "BsmtHalfBath     1460 non-null int64\n",
      "FullBath         1460 non-null int64\n",
      "HalfBath         1460 non-null int64\n",
      "BedroomAbvGr     1460 non-null int64\n",
      "KitchenAbvGr     1460 non-null int64\n",
      "KitchenQual      1460 non-null object\n",
      "TotRmsAbvGrd     1460 non-null int64\n",
      "Functional       1460 non-null object\n",
      "Fireplaces       1460 non-null int64\n",
      "FireplaceQu      770 non-null object\n",
      "GarageType       1379 non-null object\n",
      "GarageYrBlt      1379 non-null float64\n",
      "GarageFinish     1379 non-null object\n",
      "GarageCars       1460 non-null int64\n",
      "GarageArea       1460 non-null int64\n",
      "GarageQual       1379 non-null object\n",
      "GarageCond       1379 non-null object\n",
      "PavedDrive       1460 non-null object\n",
      "WoodDeckSF       1460 non-null int64\n",
      "OpenPorchSF      1460 non-null int64\n",
      "EnclosedPorch    1460 non-null int64\n",
      "3SsnPorch        1460 non-null int64\n",
      "ScreenPorch      1460 non-null int64\n",
      "PoolArea         1460 non-null int64\n",
      "PoolQC           7 non-null object\n",
      "Fence            281 non-null object\n",
      "MiscFeature      54 non-null object\n",
      "MiscVal          1460 non-null int64\n",
      "MoSold           1460 non-null int64\n",
      "YrSold           1460 non-null int64\n",
      "SaleType         1460 non-null object\n",
      "SaleCondition    1460 non-null object\n",
      "SalePrice        1460 non-null int64\n",
      "dtypes: float64(3), int64(35), object(43)\n",
      "memory usage: 924.0+ KB\n"
     ]
    }
   ],
   "source": [
    "train.info()"
   ]
  },
  {
   "cell_type": "markdown",
   "metadata": {},
   "source": [
    "1460 records, some of them with NaN."
   ]
  },
  {
   "cell_type": "code",
   "execution_count": 62,
   "metadata": {},
   "outputs": [
    {
     "data": {
      "text/html": [
       "<div>\n",
       "<style scoped>\n",
       "    .dataframe tbody tr th:only-of-type {\n",
       "        vertical-align: middle;\n",
       "    }\n",
       "\n",
       "    .dataframe tbody tr th {\n",
       "        vertical-align: top;\n",
       "    }\n",
       "\n",
       "    .dataframe thead th {\n",
       "        text-align: right;\n",
       "    }\n",
       "</style>\n",
       "<table border=\"1\" class=\"dataframe\">\n",
       "  <thead>\n",
       "    <tr style=\"text-align: right;\">\n",
       "      <th></th>\n",
       "      <th>Id</th>\n",
       "      <th>MSSubClass</th>\n",
       "      <th>MSZoning</th>\n",
       "      <th>LotFrontage</th>\n",
       "      <th>LotArea</th>\n",
       "      <th>Street</th>\n",
       "      <th>Alley</th>\n",
       "      <th>LotShape</th>\n",
       "      <th>LandContour</th>\n",
       "      <th>Utilities</th>\n",
       "      <th>...</th>\n",
       "      <th>PoolArea</th>\n",
       "      <th>PoolQC</th>\n",
       "      <th>Fence</th>\n",
       "      <th>MiscFeature</th>\n",
       "      <th>MiscVal</th>\n",
       "      <th>MoSold</th>\n",
       "      <th>YrSold</th>\n",
       "      <th>SaleType</th>\n",
       "      <th>SaleCondition</th>\n",
       "      <th>SalePrice</th>\n",
       "    </tr>\n",
       "  </thead>\n",
       "  <tbody>\n",
       "    <tr>\n",
       "      <th>0</th>\n",
       "      <td>1</td>\n",
       "      <td>60</td>\n",
       "      <td>RL</td>\n",
       "      <td>65.0</td>\n",
       "      <td>8450</td>\n",
       "      <td>Pave</td>\n",
       "      <td>NaN</td>\n",
       "      <td>Reg</td>\n",
       "      <td>Lvl</td>\n",
       "      <td>AllPub</td>\n",
       "      <td>...</td>\n",
       "      <td>0</td>\n",
       "      <td>NaN</td>\n",
       "      <td>NaN</td>\n",
       "      <td>NaN</td>\n",
       "      <td>0</td>\n",
       "      <td>2</td>\n",
       "      <td>2008</td>\n",
       "      <td>WD</td>\n",
       "      <td>Normal</td>\n",
       "      <td>208500</td>\n",
       "    </tr>\n",
       "    <tr>\n",
       "      <th>1</th>\n",
       "      <td>2</td>\n",
       "      <td>20</td>\n",
       "      <td>RL</td>\n",
       "      <td>80.0</td>\n",
       "      <td>9600</td>\n",
       "      <td>Pave</td>\n",
       "      <td>NaN</td>\n",
       "      <td>Reg</td>\n",
       "      <td>Lvl</td>\n",
       "      <td>AllPub</td>\n",
       "      <td>...</td>\n",
       "      <td>0</td>\n",
       "      <td>NaN</td>\n",
       "      <td>NaN</td>\n",
       "      <td>NaN</td>\n",
       "      <td>0</td>\n",
       "      <td>5</td>\n",
       "      <td>2007</td>\n",
       "      <td>WD</td>\n",
       "      <td>Normal</td>\n",
       "      <td>181500</td>\n",
       "    </tr>\n",
       "    <tr>\n",
       "      <th>2</th>\n",
       "      <td>3</td>\n",
       "      <td>60</td>\n",
       "      <td>RL</td>\n",
       "      <td>68.0</td>\n",
       "      <td>11250</td>\n",
       "      <td>Pave</td>\n",
       "      <td>NaN</td>\n",
       "      <td>IR1</td>\n",
       "      <td>Lvl</td>\n",
       "      <td>AllPub</td>\n",
       "      <td>...</td>\n",
       "      <td>0</td>\n",
       "      <td>NaN</td>\n",
       "      <td>NaN</td>\n",
       "      <td>NaN</td>\n",
       "      <td>0</td>\n",
       "      <td>9</td>\n",
       "      <td>2008</td>\n",
       "      <td>WD</td>\n",
       "      <td>Normal</td>\n",
       "      <td>223500</td>\n",
       "    </tr>\n",
       "    <tr>\n",
       "      <th>3</th>\n",
       "      <td>4</td>\n",
       "      <td>70</td>\n",
       "      <td>RL</td>\n",
       "      <td>60.0</td>\n",
       "      <td>9550</td>\n",
       "      <td>Pave</td>\n",
       "      <td>NaN</td>\n",
       "      <td>IR1</td>\n",
       "      <td>Lvl</td>\n",
       "      <td>AllPub</td>\n",
       "      <td>...</td>\n",
       "      <td>0</td>\n",
       "      <td>NaN</td>\n",
       "      <td>NaN</td>\n",
       "      <td>NaN</td>\n",
       "      <td>0</td>\n",
       "      <td>2</td>\n",
       "      <td>2006</td>\n",
       "      <td>WD</td>\n",
       "      <td>Abnorml</td>\n",
       "      <td>140000</td>\n",
       "    </tr>\n",
       "    <tr>\n",
       "      <th>4</th>\n",
       "      <td>5</td>\n",
       "      <td>60</td>\n",
       "      <td>RL</td>\n",
       "      <td>84.0</td>\n",
       "      <td>14260</td>\n",
       "      <td>Pave</td>\n",
       "      <td>NaN</td>\n",
       "      <td>IR1</td>\n",
       "      <td>Lvl</td>\n",
       "      <td>AllPub</td>\n",
       "      <td>...</td>\n",
       "      <td>0</td>\n",
       "      <td>NaN</td>\n",
       "      <td>NaN</td>\n",
       "      <td>NaN</td>\n",
       "      <td>0</td>\n",
       "      <td>12</td>\n",
       "      <td>2008</td>\n",
       "      <td>WD</td>\n",
       "      <td>Normal</td>\n",
       "      <td>250000</td>\n",
       "    </tr>\n",
       "  </tbody>\n",
       "</table>\n",
       "<p>5 rows × 81 columns</p>\n",
       "</div>"
      ],
      "text/plain": [
       "   Id  MSSubClass MSZoning  LotFrontage  LotArea Street Alley LotShape  \\\n",
       "0   1          60       RL         65.0     8450   Pave   NaN      Reg   \n",
       "1   2          20       RL         80.0     9600   Pave   NaN      Reg   \n",
       "2   3          60       RL         68.0    11250   Pave   NaN      IR1   \n",
       "3   4          70       RL         60.0     9550   Pave   NaN      IR1   \n",
       "4   5          60       RL         84.0    14260   Pave   NaN      IR1   \n",
       "\n",
       "  LandContour Utilities    ...     PoolArea PoolQC Fence MiscFeature MiscVal  \\\n",
       "0         Lvl    AllPub    ...            0    NaN   NaN         NaN       0   \n",
       "1         Lvl    AllPub    ...            0    NaN   NaN         NaN       0   \n",
       "2         Lvl    AllPub    ...            0    NaN   NaN         NaN       0   \n",
       "3         Lvl    AllPub    ...            0    NaN   NaN         NaN       0   \n",
       "4         Lvl    AllPub    ...            0    NaN   NaN         NaN       0   \n",
       "\n",
       "  MoSold YrSold  SaleType  SaleCondition  SalePrice  \n",
       "0      2   2008        WD         Normal     208500  \n",
       "1      5   2007        WD         Normal     181500  \n",
       "2      9   2008        WD         Normal     223500  \n",
       "3      2   2006        WD        Abnorml     140000  \n",
       "4     12   2008        WD         Normal     250000  \n",
       "\n",
       "[5 rows x 81 columns]"
      ]
     },
     "execution_count": 62,
     "metadata": {},
     "output_type": "execute_result"
    }
   ],
   "source": [
    "train.head()"
   ]
  },
  {
   "cell_type": "code",
   "execution_count": 63,
   "metadata": {},
   "outputs": [],
   "source": [
    "# drop ID\n",
    "train.drop('Id',axis=1,inplace=True)"
   ]
  },
  {
   "cell_type": "code",
   "execution_count": 64,
   "metadata": {},
   "outputs": [
    {
     "data": {
      "text/plain": [
       "PoolQC          0.995205\n",
       "MiscFeature     0.963014\n",
       "Alley           0.937671\n",
       "Fence           0.807534\n",
       "FireplaceQu     0.472603\n",
       "LotFrontage     0.177397\n",
       "GarageType      0.055479\n",
       "GarageCond      0.055479\n",
       "GarageFinish    0.055479\n",
       "GarageQual      0.055479\n",
       "GarageYrBlt     0.055479\n",
       "BsmtFinType2    0.026027\n",
       "BsmtExposure    0.026027\n",
       "BsmtQual        0.025342\n",
       "BsmtCond        0.025342\n",
       "BsmtFinType1    0.025342\n",
       "MasVnrArea      0.005479\n",
       "MasVnrType      0.005479\n",
       "Electrical      0.000685\n",
       "RoofMatl        0.000000\n",
       "dtype: float64"
      ]
     },
     "execution_count": 64,
     "metadata": {},
     "output_type": "execute_result"
    }
   ],
   "source": [
    "nansum = train.isnull().sum().sort_values(ascending=False)\n",
    "nansum.head(20)/1460\n"
   ]
  },
  {
   "cell_type": "markdown",
   "metadata": {},
   "source": [
    "PoolQC, MiscFeature,Alley,Fence,FireplaceQu, are missing >48% of values.\n",
    "delete them"
   ]
  },
  {
   "cell_type": "code",
   "execution_count": 65,
   "metadata": {},
   "outputs": [],
   "source": [
    "train.drop(columns=['PoolQC','MiscFeature','Alley','Fence','FireplaceQu'],inplace=True)"
   ]
  },
  {
   "cell_type": "code",
   "execution_count": 68,
   "metadata": {},
   "outputs": [
    {
     "name": "stdout",
     "output_type": "stream",
     "text": [
      "<class 'pandas.core.frame.DataFrame'>\n",
      "RangeIndex: 1460 entries, 0 to 1459\n",
      "Data columns (total 75 columns):\n",
      "MSSubClass       1460 non-null int64\n",
      "MSZoning         1460 non-null object\n",
      "LotFrontage      1201 non-null float64\n",
      "LotArea          1460 non-null int64\n",
      "Street           1460 non-null object\n",
      "LotShape         1460 non-null object\n",
      "LandContour      1460 non-null object\n",
      "Utilities        1460 non-null object\n",
      "LotConfig        1460 non-null object\n",
      "LandSlope        1460 non-null object\n",
      "Neighborhood     1460 non-null object\n",
      "Condition1       1460 non-null object\n",
      "Condition2       1460 non-null object\n",
      "BldgType         1460 non-null object\n",
      "HouseStyle       1460 non-null object\n",
      "OverallQual      1460 non-null int64\n",
      "OverallCond      1460 non-null int64\n",
      "YearBuilt        1460 non-null int64\n",
      "YearRemodAdd     1460 non-null int64\n",
      "RoofStyle        1460 non-null object\n",
      "RoofMatl         1460 non-null object\n",
      "Exterior1st      1460 non-null object\n",
      "Exterior2nd      1460 non-null object\n",
      "MasVnrType       1452 non-null object\n",
      "MasVnrArea       1452 non-null float64\n",
      "ExterQual        1460 non-null object\n",
      "ExterCond        1460 non-null object\n",
      "Foundation       1460 non-null object\n",
      "BsmtQual         1423 non-null object\n",
      "BsmtCond         1423 non-null object\n",
      "BsmtExposure     1422 non-null object\n",
      "BsmtFinType1     1423 non-null object\n",
      "BsmtFinSF1       1460 non-null int64\n",
      "BsmtFinType2     1422 non-null object\n",
      "BsmtFinSF2       1460 non-null int64\n",
      "BsmtUnfSF        1460 non-null int64\n",
      "TotalBsmtSF      1460 non-null int64\n",
      "Heating          1460 non-null object\n",
      "HeatingQC        1460 non-null object\n",
      "CentralAir       1460 non-null object\n",
      "Electrical       1459 non-null object\n",
      "1stFlrSF         1460 non-null int64\n",
      "2ndFlrSF         1460 non-null int64\n",
      "LowQualFinSF     1460 non-null int64\n",
      "GrLivArea        1460 non-null int64\n",
      "BsmtFullBath     1460 non-null int64\n",
      "BsmtHalfBath     1460 non-null int64\n",
      "FullBath         1460 non-null int64\n",
      "HalfBath         1460 non-null int64\n",
      "BedroomAbvGr     1460 non-null int64\n",
      "KitchenAbvGr     1460 non-null int64\n",
      "KitchenQual      1460 non-null object\n",
      "TotRmsAbvGrd     1460 non-null int64\n",
      "Functional       1460 non-null object\n",
      "Fireplaces       1460 non-null int64\n",
      "GarageType       1379 non-null object\n",
      "GarageYrBlt      1379 non-null float64\n",
      "GarageFinish     1379 non-null object\n",
      "GarageCars       1460 non-null int64\n",
      "GarageArea       1460 non-null int64\n",
      "GarageQual       1379 non-null object\n",
      "GarageCond       1379 non-null object\n",
      "PavedDrive       1460 non-null object\n",
      "WoodDeckSF       1460 non-null int64\n",
      "OpenPorchSF      1460 non-null int64\n",
      "EnclosedPorch    1460 non-null int64\n",
      "3SsnPorch        1460 non-null int64\n",
      "ScreenPorch      1460 non-null int64\n",
      "PoolArea         1460 non-null int64\n",
      "MiscVal          1460 non-null int64\n",
      "MoSold           1460 non-null int64\n",
      "YrSold           1460 non-null int64\n",
      "SaleType         1460 non-null object\n",
      "SaleCondition    1460 non-null object\n",
      "SalePrice        1460 non-null int64\n",
      "dtypes: float64(3), int64(34), object(38)\n",
      "memory usage: 855.5+ KB\n"
     ]
    }
   ],
   "source": [
    "train.info()"
   ]
  },
  {
   "cell_type": "markdown",
   "metadata": {},
   "source": [
    "## explore"
   ]
  },
  {
   "cell_type": "code",
   "execution_count": 69,
   "metadata": {},
   "outputs": [
    {
     "data": {
      "image/png": "[encoded data removed]",
      "text/plain": [
       "<matplotlib.figure.Figure at 0x10deca9e8>"
      ]
     },
     "metadata": {},
     "output_type": "display_data"
    }
   ],
   "source": [
    "# analyzing saleprice\n",
    "sns.distplot(train.SalePrice);"
   ]
  },
  {
   "cell_type": "markdown",
   "metadata": {},
   "source": [
    "\n",
    "slightly deviate from the normal distribution with some positive skewness.\n",
    "unimodal."
   ]
  },
  {
   "cell_type": "code",
   "execution_count": 73,
   "metadata": {},
   "outputs": [
    {
     "data": {
      "image/png": "[encoded data removed]",
      "text/plain": [
       "<matplotlib.figure.Figure at 0x1a1a478c50>"
      ]
     },
     "metadata": {},
     "output_type": "display_data"
    }
   ],
   "source": [
    "#correlation matrix\n",
    "corrmat = train.corr()\n",
    "f, ax = plt.subplots(figsize=(12, 9))\n",
    "sns.heatmap(abs(corrmat), vmax=.7, square=True);"
   ]
  },
  {
   "cell_type": "markdown",
   "metadata": {},
   "source": []
  },
  {
   "cell_type": "markdown",
   "metadata": {},
   "source": [
    "## data preprocessing"
   ]
  },
  {
   "cell_type": "markdown",
   "metadata": {},
   "source": [
    "### check for skewness"
   ]
  },
  {
   "cell_type": "code",
   "execution_count": 5,
   "metadata": {},
   "outputs": [
    {
     "data": {
      "text/plain": [
       "(37,)"
      ]
     },
     "execution_count": 5,
     "metadata": {},
     "output_type": "execute_result"
    }
   ],
   "source": [
    "# getting columns with numerical value\n",
    "numeric_feats = all_df.dtypes[all_df.dtypes != \"object\"].index\n",
    "numeric_feats.shape"
   ]
  },
  {
   "cell_type": "code",
   "execution_count": 6,
   "metadata": {},
   "outputs": [
    {
     "data": {
      "text/plain": [
       "(22,)"
      ]
     },
     "execution_count": 6,
     "metadata": {},
     "output_type": "execute_result"
    }
   ],
   "source": [
    "# check how many of them have skewness above 0.75\n",
    "from scipy.stats import skew\n",
    "skewed_feats = all_df[numeric_feats].apply(lambda x: skew(x.dropna())) #compute skewness\n",
    "skewed_feats = skewed_feats[skewed_feats > 0.75]\n",
    "skewed_feats = skewed_feats.index\n",
    "skewed_feats.shape"
   ]
  },
  {
   "cell_type": "code",
   "execution_count": 29,
   "metadata": {},
   "outputs": [],
   "source": [
    "# fig = plt.figure(figsize=(10,10))\n",
    "# for counter, value in enumerate(skewed_feats):\n",
    "    \n",
    "#     plt.subplot(5, 5, counter+1)\n",
    "#     sns.distplot(train[value].dropna())"
   ]
  },
  {
   "cell_type": "code",
   "execution_count": 7,
   "metadata": {},
   "outputs": [],
   "source": [
    "# do Log transform to minimize skewness\n",
    "all_df[skewed_feats] = np.log1p(all_df[skewed_feats])"
   ]
  },
  {
   "cell_type": "code",
   "execution_count": 8,
   "metadata": {},
   "outputs": [],
   "source": [
    "y_train = np.log1p(y_train)"
   ]
  },
  {
   "cell_type": "code",
   "execution_count": 32,
   "metadata": {},
   "outputs": [],
   "source": [
    "# fig = plt.figure(figsize=(10,10))\n",
    "# for counter, value in enumerate(skewed_feats):\n",
    "    \n",
    "#     plt.subplot(5, 5, counter+1)\n",
    "#     sns.distplot(train[value].dropna())"
   ]
  },
  {
   "cell_type": "markdown",
   "metadata": {},
   "source": [
    "### change categorial to dummy"
   ]
  },
  {
   "cell_type": "code",
   "execution_count": 9,
   "metadata": {},
   "outputs": [],
   "source": [
    "all_df = pd.get_dummies(all_df.iloc[:,:-1])\n"
   ]
  },
  {
   "cell_type": "code",
   "execution_count": 10,
   "metadata": {},
   "outputs": [
    {
     "data": {
      "text/plain": [
       "(2919, 283)"
      ]
     },
     "execution_count": 10,
     "metadata": {},
     "output_type": "execute_result"
    }
   ],
   "source": [
    "all_df.shape"
   ]
  },
  {
   "cell_type": "markdown",
   "metadata": {},
   "source": [
    "### fill  NaN with mean"
   ]
  },
  {
   "cell_type": "code",
   "execution_count": 11,
   "metadata": {},
   "outputs": [],
   "source": [
    "all_df = all_df.fillna(all_df.mean())\n"
   ]
  },
  {
   "cell_type": "markdown",
   "metadata": {},
   "source": [
    "### preparing data for modeling"
   ]
  },
  {
   "cell_type": "code",
   "execution_count": 12,
   "metadata": {},
   "outputs": [],
   "source": [
    "#create matrices for sklearn:\n",
    "X_train = all_df[:train.shape[0]]\n",
    "X_test = all_df[train.shape[0]:]"
   ]
  },
  {
   "cell_type": "markdown",
   "metadata": {},
   "source": [
    "## model\n",
    "- use L1 and L2 regularization"
   ]
  },
  {
   "cell_type": "markdown",
   "metadata": {},
   "source": [
    "### Ridge"
   ]
  },
  {
   "cell_type": "code",
   "execution_count": 13,
   "metadata": {},
   "outputs": [
    {
     "data": {
      "text/plain": [
       "(0.8954148632910117, 5)"
      ]
     },
     "execution_count": 13,
     "metadata": {},
     "output_type": "execute_result"
    },
    {
     "data": {
      "image/png": "[encoded data removed]",
      "text/plain": [
       "<matplotlib.figure.Figure at 0x10ea962b0>"
      ]
     },
     "metadata": {},
     "output_type": "display_data"
    }
   ],
   "source": [
    "from sklearn.linear_model import Ridge, RidgeCV, ElasticNet, LassoCV, LassoLarsCV,Lasso\n",
    "from sklearn.model_selection import cross_val_score\n",
    "\n",
    "alphas = [0.05, 0.1, 0.3, 1, 3, 5, 10, 15, 30, 50, 75]\n",
    "cv_ridge =[]\n",
    "for i in alphas:\n",
    "    clf = Ridge(alpha=i,random_state=1)\n",
    "    cv = cross_val_score(clf, X_train, y_train).mean()\n",
    "    cv_ridge.append(cv)\n",
    "plt.plot(cv_ridge,'-o')\n",
    "max(cv_ridge),alphas[np.argmax(cv_ridge)]"
   ]
  },
  {
   "cell_type": "code",
   "execution_count": 14,
   "metadata": {},
   "outputs": [
    {
     "data": {
      "text/plain": [
       "RoofMatl_ClyTile        1.202339\n",
       "Condition2_PosN         0.503025\n",
       "GrLivArea               0.432547\n",
       "MSZoning_C (all)        0.341853\n",
       "RoofMatl_Membran        0.269909\n",
       "RoofMatl_WdShngl        0.264894\n",
       "GarageQual_Ex           0.253943\n",
       "Condition2_PosA         0.222262\n",
       "RoofMatl_Metal          0.186122\n",
       "Exterior1st_BrkComm     0.184984\n",
       "Functional_Sev          0.182372\n",
       "GarageCond_Ex           0.163462\n",
       "Functional_Maj2         0.158207\n",
       "RoofStyle_Shed          0.152171\n",
       "Condition2_Feedr        0.148258\n",
       "Heating_Grav            0.147710\n",
       "Neighborhood_StoneBr    0.144919\n",
       "Condition2_RRAe         0.143401\n",
       "BsmtCond_Fa             0.143049\n",
       "RoofMatl_CompShg        0.140463\n",
       "Condition2_RRNn         0.140079\n",
       "RoofMatl_WdShake        0.136569\n",
       "RoofMatl_Roll           0.131049\n",
       "Functional_Typ          0.124207\n",
       "BsmtCond_Gd             0.122856\n",
       "BsmtQual_TA             0.122387\n",
       "BsmtQual_Gd             0.121021\n",
       "KitchenAbvGr            0.120287\n",
       "MSZoning_FV             0.119318\n",
       "Utilities_NoSeWa        0.116881\n",
       "                          ...   \n",
       "GarageFinish_RFn        0.003551\n",
       "WoodDeckSF              0.003407\n",
       "Neighborhood_Timber     0.003348\n",
       "Exterior2nd_Stucco      0.003324\n",
       "Fence_MnPrv             0.003315\n",
       "3SsnPorch               0.003176\n",
       "EnclosedPorch           0.002829\n",
       "Exterior1st_ImStucc     0.002669\n",
       "RoofStyle_Flat          0.002650\n",
       "YrSold                  0.002422\n",
       "PavedDrive_N            0.002380\n",
       "2ndFlrSF                0.001807\n",
       "Exterior2nd_Plywood     0.001733\n",
       "YearBuilt               0.001618\n",
       "OpenPorchSF             0.001574\n",
       "HouseStyle_SLvl         0.001571\n",
       "BedroomAbvGr            0.001204\n",
       "MasVnrArea              0.000898\n",
       "YearRemodAdd            0.000800\n",
       "Alley_Grvl              0.000668\n",
       "MiscFeature_TenC        0.000635\n",
       "MoSold                  0.000590\n",
       "GarageFinish_Unf        0.000518\n",
       "Condition1_PosA         0.000348\n",
       "GarageCond_Fa           0.000246\n",
       "BsmtFinSF2              0.000235\n",
       "GarageYrBlt             0.000067\n",
       "GarageArea              0.000067\n",
       "FireplaceQu_Ex          0.000037\n",
       "Id                      0.000005\n",
       "Length: 283, dtype: float64"
      ]
     },
     "execution_count": 14,
     "metadata": {},
     "output_type": "execute_result"
    }
   ],
   "source": [
    "model_Ridge= RidgeCV(alphas=[0.1,0.2]).fit(X_train, y_train)\n",
    "coef_Ridge = pd.Series(model_Ridge.coef_, index = X_train.columns)\n",
    "abs_coef_Ridge = abs(coef_Ridge).sort_values(ascending=False)\n",
    "abs_coef_Ridge"
   ]
  },
  {
   "cell_type": "code",
   "execution_count": 106,
   "metadata": {},
   "outputs": [
    {
     "data": {
      "text/plain": [
       "<matplotlib.axes._subplots.AxesSubplot at 0x1a20317e48>"
      ]
     },
     "execution_count": 106,
     "metadata": {},
     "output_type": "execute_result"
    },
    {
     "data": {
      "image/png": "[encoded data removed]",
      "text/plain": [
       "<matplotlib.figure.Figure at 0x1a202f5390>"
      ]
     },
     "metadata": {},
     "output_type": "display_data"
    }
   ],
   "source": [
    "abs_coef_Ridge[0:15].plot(kind='barh')"
   ]
  },
  {
   "cell_type": "markdown",
   "metadata": {},
   "source": [
    "### Lasso"
   ]
  },
  {
   "cell_type": "code",
   "execution_count": 94,
   "metadata": {},
   "outputs": [
    {
     "data": {
      "text/plain": [
       "[0.8960609212911693,\n",
       " 0.9018295908837585,\n",
       " 0.9014364652102583,\n",
       " 0.8980428141014535,\n",
       " 0.854851739225034]"
      ]
     },
     "execution_count": 94,
     "metadata": {},
     "output_type": "execute_result"
    },
    {
     "data": {
      "image/png": "[encoded data removed]",
      "text/plain": [
       "<matplotlib.figure.Figure at 0x1a20430be0>"
      ]
     },
     "metadata": {},
     "output_type": "display_data"
    }
   ],
   "source": [
    "alphas = [1e-4,3.5e-4,5e-4, 1e-3,1e-2]\n",
    "cv_lasso =[]\n",
    "for i in alphas:\n",
    "    cv = cross_val_score(Lasso(alpha=i), X_train, y_train).mean()\n",
    "    cv_lasso.append(cv)\n",
    "plt.plot(alphas,cv_lasso,'-o')\n",
    "cv_lasso"
   ]
  },
  {
   "cell_type": "code",
   "execution_count": 99,
   "metadata": {},
   "outputs": [
    {
     "name": "stderr",
     "output_type": "stream",
     "text": [
      "/Users/yongsingyou/anaconda3/lib/python3.6/site-packages/sklearn/linear_model/coordinate_descent.py:491: ConvergenceWarning: Objective did not converge. You might want to increase the number of iterations. Fitting data with very small alpha may cause precision problems.\n",
      "  ConvergenceWarning)\n",
      "/Users/yongsingyou/anaconda3/lib/python3.6/site-packages/sklearn/linear_model/coordinate_descent.py:491: ConvergenceWarning: Objective did not converge. You might want to increase the number of iterations. Fitting data with very small alpha may cause precision problems.\n",
      "  ConvergenceWarning)\n"
     ]
    },
    {
     "data": {
      "text/plain": [
       "(array([0.9249879 , 0.89201955, 0.88544167]), 0.00035)"
      ]
     },
     "execution_count": 99,
     "metadata": {},
     "output_type": "execute_result"
    }
   ],
   "source": [
    "model_lasso = LassoCV(alphas = [1e-4,3.5e-4,5e-4, 1e-3,1e-2]).fit(X_train, y_train)\n",
    "cross_val_score(model_lasso,X_train, y_train),model_lasso.alpha_"
   ]
  },
  {
   "cell_type": "code",
   "execution_count": 97,
   "metadata": {},
   "outputs": [
    {
     "data": {
      "text/plain": [
       "RoofMatl_ClyTile        0.981562\n",
       "GrLivArea               0.425856\n",
       "MSZoning_C (all)        0.349021\n",
       "Condition2_PosN         0.321449\n",
       "Neighborhood_StoneBr    0.121450\n",
       "Neighborhood_Crawfor    0.107185\n",
       "Functional_Maj2         0.090150\n",
       "Neighborhood_NoRidge    0.085539\n",
       "RoofMatl_WdShngl        0.078144\n",
       "Functional_Typ          0.075774\n",
       "LotArea                 0.074963\n",
       "Neighborhood_NridgHt    0.073766\n",
       "Exterior1st_BrkFace     0.070758\n",
       "KitchenQual_Ex          0.065312\n",
       "Neighborhood_Edwards    0.057459\n",
       "Condition1_RRAe         0.051029\n",
       "OverallQual             0.049857\n",
       "BsmtQual_Ex             0.049403\n",
       "Neighborhood_BrkSide    0.044185\n",
       "Heating_Grav            0.044087\n",
       "OverallCond             0.043170\n",
       "Condition1_Norm         0.043000\n",
       "SaleType_COD            0.042191\n",
       "Heating_GasW            0.041303\n",
       "BsmtExposure_Gd         0.039614\n",
       "Neighborhood_Somerst    0.039590\n",
       "KitchenAbvGr            0.038012\n",
       "MSZoning_RM             0.037223\n",
       "GarageCars              0.035174\n",
       "CentralAir_N            0.034136\n",
       "                          ...   \n",
       "BldgType_2fmCon         0.000000\n",
       "GarageFinish_RFn        0.000000\n",
       "Condition2_RRNn         0.000000\n",
       "Condition2_RRAn         0.000000\n",
       "RoofMatl_WdShake        0.000000\n",
       "Exterior1st_AsbShng     0.000000\n",
       "Exterior2nd_Stone       0.000000\n",
       "Exterior1st_AsphShn     0.000000\n",
       "Exterior2nd_Other       0.000000\n",
       "Exterior2nd_MetalSd     0.000000\n",
       "Exterior2nd_ImStucc     0.000000\n",
       "Exterior2nd_HdBoard     0.000000\n",
       "Exterior2nd_CmentBd     0.000000\n",
       "Exterior2nd_CBlock      0.000000\n",
       "Exterior2nd_BrkFace     0.000000\n",
       "Exterior2nd_Brk Cmn     0.000000\n",
       "Exterior2nd_AsphShn     0.000000\n",
       "Exterior2nd_AsbShng     0.000000\n",
       "Exterior1st_WdShing     0.000000\n",
       "Exterior1st_VinylSd     0.000000\n",
       "Exterior1st_Stucco      0.000000\n",
       "Exterior1st_Stone       0.000000\n",
       "Exterior1st_Plywood     0.000000\n",
       "SaleType_Oth            0.000000\n",
       "Exterior1st_ImStucc     0.000000\n",
       "Exterior1st_CemntBd     0.000000\n",
       "Exterior1st_CBlock      0.000000\n",
       "GarageType_Basment      0.000000\n",
       "Exterior1st_BrkComm     0.000000\n",
       "HouseStyle_2.5Fin       0.000000\n",
       "Length: 283, dtype: float64"
      ]
     },
     "execution_count": 97,
     "metadata": {},
     "output_type": "execute_result"
    }
   ],
   "source": [
    "coef = pd.Series(model_lasso.coef_, index = X_train.columns)\n",
    "abs(coef).sort_values(ascending=False)"
   ]
  },
  {
   "cell_type": "code",
   "execution_count": 98,
   "metadata": {
    "scrolled": false
   },
   "outputs": [
    {
     "data": {
      "text/plain": [
       "<matplotlib.axes._subplots.AxesSubplot at 0x1a1f9cbb00>"
      ]
     },
     "execution_count": 98,
     "metadata": {},
     "output_type": "execute_result"
    },
    {
     "data": {
      "image/png": "[encoded data removed]",
      "text/plain": [
       "<matplotlib.figure.Figure at 0x1a1384e518>"
      ]
     },
     "metadata": {},
     "output_type": "display_data"
    }
   ],
   "source": [
    "abscoef = abs(coef).sort_values(ascending=False)\n",
    "abscoef[0:15].plot(kind='barh')"
   ]
  },
  {
   "cell_type": "markdown",
   "metadata": {},
   "source": [
    "Roof material:ClyTile, GrLivArea: Above grade (ground) living area square feet,MSZoning in C (Commercial), Condition2: Proximity Near positive off-site feature--park, greenbelt, etc.\n",
    "\t\t\n",
    "are important features that decide housing price."
   ]
  },
  {
   "cell_type": "code",
   "execution_count": 100,
   "metadata": {},
   "outputs": [],
   "source": [
    "### output this to Kaggle\n",
    "las = Lasso(alpha= 0.00035).fit(X_train,y_train)\n",
    "Y_predi = las.predict(X_test)\n",
    "Y_predi = np.expm1(Y_predi) # reverse to normal value\n",
    "submission = pd.DataFrame({'Id':test['Id'],\"SalePrice\":Y_predi})\n",
    "submission.to_csv(\"submission_lasso.csv\", index = False)"
   ]
  },
  {
   "cell_type": "code",
   "execution_count": 107,
   "metadata": {},
   "outputs": [],
   "source": [
    "rid = Ridge(alpha= 0.1).fit(X_train,y_train)\n",
    "Y_predi = rid.predict(X_test)\n",
    "Y_predi = np.expm1(Y_predi) # reverse to normal value\n",
    "submission = pd.DataFrame({'Id':test['Id'],\"SalePrice\":Y_predi})\n",
    "submission.to_csv(\"submission_rid.csv\", index = False)"
   ]
  },
  {
   "cell_type": "markdown",
   "metadata": {},
   "source": [
    "### elastic"
   ]
  },
  {
   "cell_type": "code",
   "execution_count": null,
   "metadata": {},
   "outputs": [],
   "source": [
    "alphas = [1e-4,3.5e-4,5e-4, 1e-3,1e-2]\n",
    "cv_lasso =[]\n",
    "for i in alphas:\n",
    "    cv = cross_val_score(Lasso(alpha=i), X_train, y_train).mean()\n",
    "    cv_lasso.append(cv)\n",
    "plt.plot(alphas,cv_lasso,'-o')\n",
    "cv_lasso"
   ]
  },
  {
   "cell_type": "markdown",
   "metadata": {},
   "source": [
    "## try other models"
   ]
  },
  {
   "cell_type": "markdown",
   "metadata": {},
   "source": [
    "### light gbm"
   ]
  },
  {
   "cell_type": "code",
   "execution_count": 74,
   "metadata": {},
   "outputs": [],
   "source": [
    "import lightgbm as lgb\n",
    "lgb_r = lgb.LGBMRegressor()\n",
    "lgb_r.fit(X_train,y_train)\n",
    "Y_predi = lgb_r.predict(X_test)\n",
    "Y_predi = np.expm1(Y_predi) # reverse to normal value\n",
    "submission = pd.DataFrame({'Id':test['Id'],\"SalePrice\":Y_predi})\n",
    "submission.to_csv(\"submission_lgb.csv\", index = False)\n"
   ]
  },
  {
   "cell_type": "code",
   "execution_count": 75,
   "metadata": {},
   "outputs": [],
   "source": [
    "from sklearn.ensemble import RandomForestRegressor \n",
    "forest_reg = RandomForestRegressor()\n",
    "forest_reg.fit(X_train,y_train)\n",
    "Y_predi = forest_reg.predict(X_test)\n",
    "Y_predi = np.expm1(Y_predi) # reverse to normal value\n",
    "submission = pd.DataFrame({'Id':test['Id'],\"SalePrice\":Y_predi})\n",
    "submission.to_csv(\"submission_forest.csv\", index = False)"
   ]
  }
 ],
 "metadata": {
  "kernelspec": {
   "display_name": "Python 3",
   "language": "python3",
   "name": "python3"
  },
  "language_info": {
   "codemirror_mode": {
    "name": "ipython",
    "version": 3
   },
   "file_extension": ".py",
   "mimetype": "text/x-python",
   "name": "python",
   "nbconvert_exporter": "python",
   "pygments_lexer": "ipython3",
   "version": "3.6.4"
  },
  "toc": {
   "base_numbering": 1,
   "nav_menu": {},
   "number_sections": true,
   "sideBar": true,
   "skip_h1_title": true,
   "title_cell": "Table of Contents",
   "title_sidebar": "Contents",
   "toc_cell": true,
   "toc_position": {
    "height": "calc(100% - 180px)",
    "left": "10px",
    "top": "150px",
    "width": "256px"
   },
   "toc_section_display": true,
   "toc_window_display": true
  }
 },
 "nbformat": 4,
 "nbformat_minor": 2
}
